{
 "cells": [
  {
   "cell_type": "code",
   "execution_count": 34,
   "metadata": {},
   "outputs": [],
   "source": [
    "import cv2\n",
    "import mediapipe as mp\n",
    "import pickle\n",
    "from tensorflow.keras.models import load_model\n",
    "from tensorflow.keras.preprocessing.image import load_img"
   ]
  },
  {
   "cell_type": "code",
   "execution_count": 35,
   "metadata": {},
   "outputs": [],
   "source": [
    "hands = mp.solutions.hands.Hands()\n",
    "\n",
    "# mp_drawing = mp.solutions.drawing_utils\n",
    "# mp_drawing_styles = mp.solutions.drawing_styles"
   ]
  },
  {
   "cell_type": "code",
   "execution_count": 36,
   "metadata": {},
   "outputs": [],
   "source": [
    "image = cv2.imread('D:/DHBK/HK6/PBL5/code/Train_2/A/A_59.jpg')  # Thay 'hand.jpg' bằng đường dẫn tới bức ảnh của bạn\n",
    "# cv2.imshow('Image', image)\n",
    "# cv2.waitKey(0)\n",
    "# cv2.destroyAllWindows()\n"
   ]
  },
  {
   "cell_type": "code",
   "execution_count": 37,
   "metadata": {},
   "outputs": [],
   "source": [
    "# Chuyển đổi hình ảnh sang định dạng RGB\n",
    "import numpy as np\n",
    "\n",
    "\n",
    "image_rgb = cv2.cvtColor(image, cv2.COLOR_BGR2RGB)\n",
    "\n",
    "# Đưa hình ảnh vào model để nhận dạng các điểm trên bàn tay\n",
    "results = hands.process(image_rgb)\n",
    "\n",
    "# Kiểm tra xem có các điểm được nhận dạng hay không\n",
    "if results.multi_hand_landmarks:\n",
    "    # Vẽ các điểm trên bàn tay lên bức ảnh\n",
    "    for hand_landmarks in results.multi_hand_landmarks:\n",
    "        for landmark in hand_landmarks.landmark:\n",
    "                # Tọa độ pixel của điểm nhận dạng trên bàn tay\n",
    "                x = int(landmark.x * image.shape[1])\n",
    "                y = int(landmark.y * image.shape[0])\n",
    "                # Vẽ một đường tròn tại điểm nhận dạng\n",
    "                cv2.circle(image, (x, y), 5, (0, 255, 0), -1)\n",
    "\n",
    "        # Vẽ các đường nối giữa các điểm nhận dạng\n",
    "        connections = mp.solutions.hands.HAND_CONNECTIONS\n",
    "        for connection in connections:\n",
    "            start_index = connection[0]\n",
    "            end_index = connection[1]\n",
    "            start_point = tuple(np.multiply([hand_landmarks.landmark[start_index].x, hand_landmarks.landmark[start_index].y], [image.shape[1], image.shape[0]]).astype(int))\n",
    "            end_point = tuple(np.multiply([hand_landmarks.landmark[end_index].x, hand_landmarks.landmark[end_index].y], [image.shape[1], image.shape[0]]).astype(int))\n",
    "            cv2.line(image, start_point, end_point, (0, 255, 0), 2)\n",
    "# Hiển thị bức ảnh với các điểm đã được vẽ\n",
    "cv2.imshow('Image with Hand Landmarks', image)\n",
    "cv2.waitKey(0)\n",
    "cv2.destroyAllWindows()\n"
   ]
  },
  {
   "cell_type": "code",
   "execution_count": 38,
   "metadata": {},
   "outputs": [],
   "source": [
    "hsv = cv2.cvtColor(image, cv2.COLOR_BGR2HSV)\n",
    "# Đặt giới hạn màu xanh trong không gian màu HSV\n",
    "lower_green = np.array([50, 100, 100])\n",
    "upper_green = np.array([70, 255, 255])\n",
    "# Tạo mặt nạ (mask) cho các màu xanh\n",
    "mask = cv2.inRange(hsv, lower_green, upper_green)\n",
    "\n",
    "# Áp dụng mặt nạ lên bức ảnh gốc\n",
    "result = cv2.bitwise_and(image, image, mask=mask)\n",
    "\n",
    "# Hiển thị bức ảnh chỉ chứa màu xanh\n",
    "cv2.imshow('Only Green Color', result)\n",
    "cv2.waitKey(0)\n",
    "cv2.destroyAllWindows()"
   ]
  }
 ],
 "metadata": {
  "kernelspec": {
   "display_name": "Python 3",
   "language": "python",
   "name": "python3"
  },
  "language_info": {
   "codemirror_mode": {
    "name": "ipython",
    "version": 3
   },
   "file_extension": ".py",
   "mimetype": "text/x-python",
   "name": "python",
   "nbconvert_exporter": "python",
   "pygments_lexer": "ipython3",
   "version": "3.10.9"
  },
  "orig_nbformat": 4
 },
 "nbformat": 4,
 "nbformat_minor": 2
}
